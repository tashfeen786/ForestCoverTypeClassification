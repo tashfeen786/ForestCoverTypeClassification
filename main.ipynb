{
 "cells": [
  {
   "cell_type": "code",
   "execution_count": 3,
   "id": "4655c45e",
   "metadata": {},
   "outputs": [],
   "source": [
    "import pandas as pd\n",
    "import numpy as np\n",
    "from sklearn.model_selection import train_test_split\n",
    "from sklearn.ensemble import RandomForestClassifier\n",
    "from sklearn.metrics import accuracy_score\n",
    "import pickle"
   ]
  },
  {
   "cell_type": "code",
   "execution_count": 4,
   "id": "09d425ae",
   "metadata": {},
   "outputs": [],
   "source": [
    "from sklearn.datasets import fetch_covtype\n",
    "import pandas as pd\n",
    "\n",
    "# dataset load karo\n",
    "data = fetch_covtype()\n",
    "df = pd.DataFrame(data.data, columns=data.feature_names)\n",
    "df['target'] = data.target\n",
    "X = df.drop('target', axis=1)\n",
    "y = df['target']"
   ]
  },
  {
   "cell_type": "code",
   "execution_count": 12,
   "id": "8c67258d",
   "metadata": {},
   "outputs": [],
   "source": [
    "# Train-test split (original imbalanced dataset)\n",
    "X_train, X_test, y_train, y_test = train_test_split(\n",
    "    X, y, test_size=0.2, random_state=42, stratify=y)"
   ]
  },
  {
   "cell_type": "code",
   "execution_count": 13,
   "id": "e764feda",
   "metadata": {},
   "outputs": [],
   "source": [
    "# Random Forest on imbalanced data\n",
    "rf = RandomForestClassifier(random_state=42)\n",
    "rf.fit(X_train, y_train)\n",
    "y_pred = rf.predict(X_test)\n"
   ]
  },
  {
   "cell_type": "code",
   "execution_count": 15,
   "id": "5cf26ce4",
   "metadata": {},
   "outputs": [
    {
     "name": "stdout",
     "output_type": "stream",
     "text": [
      "📌 Performance on Imbalanced Data\n",
      "Accuracy: 0.9533316695782381\n",
      "              precision    recall  f1-score   support\n",
      "\n",
      "           1       0.96      0.94      0.95     42368\n",
      "           2       0.95      0.97      0.96     56661\n",
      "           3       0.94      0.96      0.95      7151\n",
      "           4       0.92      0.86      0.89       549\n",
      "           5       0.95      0.77      0.85      1899\n",
      "           6       0.93      0.89      0.91      3473\n",
      "           7       0.97      0.95      0.96      4102\n",
      "\n",
      "    accuracy                           0.95    116203\n",
      "   macro avg       0.95      0.91      0.92    116203\n",
      "weighted avg       0.95      0.95      0.95    116203\n",
      "\n",
      "Class distribution (train): Counter({2: 226640, 1: 169472, 3: 28603, 7: 16408, 6: 13894, 5: 7594, 4: 2198})\n"
     ]
    }
   ],
   "source": [
    "from sklearn.metrics import classification_report\n",
    "from collections import Counter\n",
    "print(\"📌 Performance on Imbalanced Data\")\n",
    "print(\"Accuracy:\", accuracy_score(y_test, y_pred))\n",
    "print(classification_report(y_test, y_pred))\n",
    "print(\"Class distribution (train):\", Counter(y_train))"
   ]
  },
  {
   "cell_type": "code",
   "execution_count": 16,
   "id": "0504ab59",
   "metadata": {},
   "outputs": [
    {
     "name": "stderr",
     "output_type": "stream",
     "text": [
      "C:\\Users\\Mani\\AppData\\Local\\Temp\\ipykernel_10348\\4245771560.py:15: FutureWarning: \n",
      "\n",
      "Passing `palette` without assigning `hue` is deprecated and will be removed in v0.14.0. Assign the `x` variable to `hue` and set `legend=False` for the same effect.\n",
      "\n",
      "  sns.barplot(x='Class', y='count', data=count_df, palette='viridis')\n"
     ]
    },
    {
     "data": {
      "image/png": "[encoded data removed]",
      "text/plain": [
       "<Figure size 800x500 with 1 Axes>"
      ]
     },
     "metadata": {},
     "output_type": "display_data"
    }
   ],
   "source": [
    "import matplotlib.pyplot as plt\n",
    "import seaborn as sns\n",
    "from collections import Counter\n",
    "\n",
    "# har class ka count\n",
    "class_counts = Counter(y)\n",
    "\n",
    "# dataframe bana lo plotting ke liye\n",
    "count_df = pd.DataFrame.from_dict(class_counts, orient='index', columns=['count'])\n",
    "count_df.index.name = 'Class'\n",
    "count_df.reset_index(inplace=True)\n",
    "\n",
    "# plot\n",
    "plt.figure(figsize=(8,5))\n",
    "sns.barplot(x='Class', y='count', data=count_df, palette='viridis')\n",
    "\n",
    "plt.title(\"Class Distribution Before Balancing\")\n",
    "plt.xlabel(\"Class\")\n",
    "plt.ylabel(\"Number of Samples\")\n",
    "plt.show()\n"
   ]
  },
  {
   "cell_type": "code",
   "execution_count": 17,
   "id": "bb6dc55e",
   "metadata": {},
   "outputs": [
    {
     "name": "stdout",
     "output_type": "stream",
     "text": [
      "target\n",
      "2    283301\n",
      "1    211840\n",
      "3     35754\n",
      "7     20510\n",
      "6     17367\n",
      "5      9493\n",
      "4      2747\n",
      "Name: count, dtype: int64\n"
     ]
    }
   ],
   "source": [
    "\n",
    "# pandas value_counts \n",
    "print(y.value_counts())\n"
   ]
  },
  {
   "cell_type": "code",
   "execution_count": 18,
   "id": "477ff29f",
   "metadata": {},
   "outputs": [
    {
     "name": "stdout",
     "output_type": "stream",
     "text": [
      "Before undersampling: Counter({2: 283301, 1: 211840, 3: 35754, 7: 20510, 6: 17367, 5: 9493, 4: 2747})\n"
     ]
    },
    {
     "name": "stderr",
     "output_type": "stream",
     "text": [
      "c:\\Users\\Mani\\anaconda3\\envs\\myenv\\lib\\site-packages\\sklearn\\base.py:484: FutureWarning: `BaseEstimator._check_n_features` is deprecated in 1.6 and will be removed in 1.7. Use `sklearn.utils.validation._check_n_features` instead.\n",
      "  warnings.warn(\n",
      "c:\\Users\\Mani\\anaconda3\\envs\\myenv\\lib\\site-packages\\sklearn\\base.py:493: FutureWarning: `BaseEstimator._check_feature_names` is deprecated in 1.6 and will be removed in 1.7. Use `sklearn.utils.validation._check_feature_names` instead.\n",
      "  warnings.warn(\n"
     ]
    },
    {
     "name": "stdout",
     "output_type": "stream",
     "text": [
      "After undersampling: Counter({1: 2747, 2: 2747, 3: 2747, 4: 2747, 5: 2747, 6: 2747, 7: 2747})\n"
     ]
    }
   ],
   "source": [
    "from imblearn.under_sampling import RandomUnderSampler\n",
    "from collections import Counter\n",
    "\n",
    "print(\"Before undersampling:\", Counter(y))\n",
    "\n",
    "# undersampling\n",
    "rus = RandomUnderSampler(random_state=42)\n",
    "X_resampled, y_resampled = rus.fit_resample(X, y)\n",
    "\n",
    "print(\"After undersampling:\", Counter(y_resampled))\n"
   ]
  },
  {
   "cell_type": "code",
   "execution_count": 19,
   "id": "65bf5644",
   "metadata": {},
   "outputs": [
    {
     "name": "stdout",
     "output_type": "stream",
     "text": [
      "Before balancing:\n",
      "X shape: (581012, 54)\n",
      "y shape: (581012,)\n",
      "Class distribution: Counter({2: 283301, 1: 211840, 3: 35754, 7: 20510, 6: 17367, 5: 9493, 4: 2747})\n"
     ]
    }
   ],
   "source": [
    "from collections import Counter\n",
    "from imblearn.under_sampling import RandomUnderSampler\n",
    "\n",
    "print(\"Before balancing:\")\n",
    "print(\"X shape:\", X.shape)\n",
    "print(\"y shape:\", y.shape)\n",
    "print(\"Class distribution:\", Counter(y))\n"
   ]
  },
  {
   "cell_type": "code",
   "execution_count": 20,
   "id": "d79a9d31",
   "metadata": {},
   "outputs": [
    {
     "name": "stderr",
     "output_type": "stream",
     "text": [
      "c:\\Users\\Mani\\anaconda3\\envs\\myenv\\lib\\site-packages\\sklearn\\base.py:484: FutureWarning: `BaseEstimator._check_n_features` is deprecated in 1.6 and will be removed in 1.7. Use `sklearn.utils.validation._check_n_features` instead.\n",
      "  warnings.warn(\n",
      "c:\\Users\\Mani\\anaconda3\\envs\\myenv\\lib\\site-packages\\sklearn\\base.py:493: FutureWarning: `BaseEstimator._check_feature_names` is deprecated in 1.6 and will be removed in 1.7. Use `sklearn.utils.validation._check_feature_names` instead.\n",
      "  warnings.warn(\n"
     ]
    },
    {
     "name": "stdout",
     "output_type": "stream",
     "text": [
      "\n",
      "After balancing:\n",
      "X_resampled shape: (19229, 54)\n",
      "y_resampled shape: (19229,)\n"
     ]
    }
   ],
   "source": [
    "# Apply undersampling\n",
    "rus = RandomUnderSampler(random_state=42)\n",
    "X_resampled, y_resampled = rus.fit_resample(X, y)\n",
    "\n",
    "print(\"\\nAfter balancing:\")\n",
    "print(\"X_resampled shape:\", X_resampled.shape)\n",
    "print(\"y_resampled shape:\", y_resampled.shape)"
   ]
  },
  {
   "cell_type": "code",
   "execution_count": 21,
   "id": "e245a8a4",
   "metadata": {},
   "outputs": [
    {
     "name": "stderr",
     "output_type": "stream",
     "text": [
      "C:\\Users\\Mani\\AppData\\Local\\Temp\\ipykernel_10348\\2416617634.py:4: FutureWarning: \n",
      "\n",
      "Passing `palette` without assigning `hue` is deprecated and will be removed in v0.14.0. Assign the `x` variable to `hue` and set `legend=False` for the same effect.\n",
      "\n",
      "  sns.barplot(x='Class', y='count', data=before_df, palette='viridis', ax=axes[0])\n",
      "C:\\Users\\Mani\\AppData\\Local\\Temp\\ipykernel_10348\\2416617634.py:9: FutureWarning: \n",
      "\n",
      "Passing `palette` without assigning `hue` is deprecated and will be removed in v0.14.0. Assign the `x` variable to `hue` and set `legend=False` for the same effect.\n",
      "\n",
      "  sns.barplot(x='Class', y='count', data=after_df, palette='viridis', ax=axes[1])\n"
     ]
    },
    {
     "data": {
      "image/png": "[encoded data removed]",
      "text/plain": [
       "<Figure size 1200x500 with 2 Axes>"
      ]
     },
     "metadata": {},
     "output_type": "display_data"
    }
   ],
   "source": [
    "# Plot side by side\n",
    "fig, axes = plt.subplots(1, 2, figsize=(12,5))\n",
    "\n",
    "sns.barplot(x='Class', y='count', data=before_df, palette='viridis', ax=axes[0])\n",
    "axes[0].set_title(\"Before Balancing\")\n",
    "axes[0].set_xlabel(\"Class\")\n",
    "axes[0].set_ylabel(\"Number of Samples\")\n",
    "\n",
    "sns.barplot(x='Class', y='count', data=after_df, palette='viridis', ax=axes[1])\n",
    "axes[1].set_title(\"After Balancing (Undersampling)\")\n",
    "axes[1].set_xlabel(\"Class\")\n",
    "axes[1].set_ylabel(\"Number of Samples\")\n",
    "\n",
    "plt.tight_layout()\n",
    "plt.show()"
   ]
  },
  {
   "cell_type": "code",
   "execution_count": 22,
   "id": "6e719265",
   "metadata": {},
   "outputs": [],
   "source": [
    "# Train-test split (balanced dataset)\n",
    "X_train_res, X_test_res, y_train_res, y_test_res = train_test_split(\n",
    "    X_resampled, y_resampled, test_size=0.2, random_state=42)"
   ]
  },
  {
   "cell_type": "code",
   "execution_count": 23,
   "id": "7f1965af",
   "metadata": {},
   "outputs": [],
   "source": [
    "# Random Forest on balanced data\n",
    "rf_res = RandomForestClassifier(random_state=42)\n",
    "rf_res.fit(X_train_res, y_train_res)\n",
    "y_pred_res = rf_res.predict(X_test_res)"
   ]
  },
  {
   "cell_type": "code",
   "execution_count": 24,
   "id": "2be8fd64",
   "metadata": {},
   "outputs": [
    {
     "name": "stdout",
     "output_type": "stream",
     "text": [
      "\n",
      "📌 Performance on Balanced Data (Undersampling)\n",
      "Accuracy: 0.874154966198648\n",
      "              precision    recall  f1-score   support\n",
      "\n",
      "           1       0.81      0.79      0.80       543\n",
      "           2       0.82      0.72      0.77       554\n",
      "           3       0.87      0.82      0.84       569\n",
      "           4       0.94      0.96      0.95       537\n",
      "           5       0.91      0.95      0.93       550\n",
      "           6       0.84      0.90      0.87       568\n",
      "           7       0.93      0.97      0.95       525\n",
      "\n",
      "    accuracy                           0.87      3846\n",
      "   macro avg       0.87      0.88      0.87      3846\n",
      "weighted avg       0.87      0.87      0.87      3846\n",
      "\n",
      "Class distribution (train): Counter({7: 2222, 4: 2210, 1: 2204, 5: 2197, 2: 2193, 6: 2179, 3: 2178})\n"
     ]
    }
   ],
   "source": [
    "print(\"\\n📌 Performance on Balanced Data (Undersampling)\")\n",
    "print(\"Accuracy:\", accuracy_score(y_test_res, y_pred_res))\n",
    "print(classification_report(y_test_res, y_pred_res))\n",
    "print(\"Class distribution (train):\", Counter(y_train_res))"
   ]
  },
  {
   "cell_type": "code",
   "execution_count": 28,
   "id": "d04f1a85",
   "metadata": {},
   "outputs": [],
   "source": [
    "from sklearn.model_selection import GridSearchCV\n",
    "\n",
    "# Hyperparameter tuning with GridSearchCV\n",
    "param_grid = {\n",
    "    'n_estimators': [100, 200, 200],\n",
    "    'max_depth': [None, 10, 20,30],\n",
    "    'min_samples_split': [2, 5, 10],\n",
    "    'min_samples_leaf': [1, 2, 4],\n",
    "    'max_features': ['sqrt', 'log2'],\n",
    "    'bootstrap': [True, False]\n",
    "}"
   ]
  },
  {
   "cell_type": "code",
   "execution_count": null,
   "id": "f083d492",
   "metadata": {},
   "outputs": [
    {
     "name": "stdout",
     "output_type": "stream",
     "text": [
      "Fitting 3 folds for each of 432 candidates, totalling 1296 fits\n"
     ]
    }
   ],
   "source": [
    "rf = RandomForestClassifier(random_state=42)\n",
    "\n",
    "# GridSearch with 3-fold cross-validation\n",
    "grid_search = GridSearchCV(estimator=rf, param_grid=param_grid,\n",
    "                            cv=3, n_jobs=-1, verbose=2, scoring='f1_macro')\n",
    "grid_search.fit(X_train_res, y_train_res)"
   ]
  },
  {
   "cell_type": "code",
   "execution_count": null,
   "id": "e0a8ef99",
   "metadata": {},
   "outputs": [],
   "source": [
    "print(\"Best Parameters:\", grid_search.best_params_)\n",
    "print(\"Best Score:\", grid_search.best_score_)\n",
    "\n",
    "# best model use karna\n",
    "best_rf = grid_search.best_estimator_\n",
    "\n",
    "# prediction\n",
    "y_pred_res = best_rf.predict(X_test_res)\n"
   ]
  }
 ],
 "metadata": {
  "kernelspec": {
   "display_name": "myenv",
   "language": "python",
   "name": "python3"
  },
  "language_info": {
   "codemirror_mode": {
    "name": "ipython",
    "version": 3
   },
   "file_extension": ".py",
   "mimetype": "text/x-python",
   "name": "python",
   "nbconvert_exporter": "python",
   "pygments_lexer": "ipython3",
   "version": "3.9.23"
  }
 },
 "nbformat": 4,
 "nbformat_minor": 5
}
